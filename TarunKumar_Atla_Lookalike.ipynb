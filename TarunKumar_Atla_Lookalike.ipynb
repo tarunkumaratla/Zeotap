{
 "cells": [
  {
   "cell_type": "code",
   "execution_count": 1,
   "id": "9c66eb5a",
   "metadata": {},
   "outputs": [],
   "source": [
    "## Import Libraries\n",
    "import pandas as pd\n",
    "from sklearn.metrics.pairwise import cosine_similarity"
   ]
  },
  {
   "cell_type": "code",
   "execution_count": 2,
   "id": "2758810c",
   "metadata": {},
   "outputs": [],
   "source": [
    "# Load Datasets\n",
    "customers = pd.read_csv(\"Customers.csv\")\n",
    "products = pd.read_csv(\"Products.csv\")\n",
    "transactions = pd.read_csv(\"Transactions.csv\")"
   ]
  },
  {
   "cell_type": "code",
   "execution_count": 3,
   "id": "03afd0cf",
   "metadata": {},
   "outputs": [],
   "source": [
    "# Merge Datasets for Comprehensive Analysis\n",
    "# Merging transactions, customers, and products data into a single dataset\n",
    "merged_data = transactions.merge(customers, on=\"CustomerID\").merge(products, on=\"ProductID\")"
   ]
  },
  {
   "cell_type": "code",
   "execution_count": 4,
   "id": "92df3cf9",
   "metadata": {},
   "outputs": [],
   "source": [
    "# Create User Profiles\n",
    "# Customer profiles include mean 'Quantity' and 'TotalValue' purchased, as well as their category preferences\n",
    "customer_profiles = merged_data.groupby(\"CustomerID\")[[\"Quantity\", \"TotalValue\"]].mean()"
   ]
  },
  {
   "cell_type": "code",
   "execution_count": 5,
   "id": "5470c7ee",
   "metadata": {},
   "outputs": [],
   "source": [
    "# Create one-hot encoded product category preferences for each customer\n",
    "product_preferences = pd.get_dummies(merged_data[[\"CustomerID\", \"Category\"]], columns=[\"Category\"])\n",
    "product_preferences = product_preferences.groupby(\"CustomerID\").sum()"
   ]
  },
  {
   "cell_type": "code",
   "execution_count": 6,
   "id": "fa9aadb8",
   "metadata": {},
   "outputs": [],
   "source": [
    "# Combine transaction features and product preferences into a final profile for each customer\n",
    "final_profiles = pd.concat([customer_profiles, product_preferences], axis=1)"
   ]
  },
  {
   "cell_type": "code",
   "execution_count": 7,
   "id": "7ed9a3c0",
   "metadata": {},
   "outputs": [],
   "source": [
    "# Compute Cosine Similarity for Customer Profiles\n",
    "# Generate a similarity matrix based on the final customer profiles\n",
    "similarity_matrix = cosine_similarity(final_profiles)\n",
    "similarity_df = pd.DataFrame(similarity_matrix, index=final_profiles.index, columns=final_profiles.index)"
   ]
  },
  {
   "cell_type": "code",
   "execution_count": 8,
   "id": "e926bcda",
   "metadata": {},
   "outputs": [],
   "source": [
    "# Generate Lookalike Recommendations\n",
    "# For the first 20 customers (C0001 - C0020), find the top-3 most similar customers\n",
    "lookalike_results = {}\n",
    "for customer in similarity_df.index[:20]:  # Assuming first 20 customers correspond to C0001 - C0020\n",
    "    # Sort similarity scores in descending order and exclude the customer themselves\n",
    "    similar_customers = similarity_df.loc[customer].sort_values(ascending=False).iloc[1:4]\n",
    "    # Store top-3 similar customers and their scores in a dictionary\n",
    "    lookalike_results[customer] = [(index, round(score, 4)) for index, score in zip(similar_customers.index, similar_customers.values)]"
   ]
  },
  {
   "cell_type": "code",
   "execution_count": 9,
   "id": "fdfb711d",
   "metadata": {},
   "outputs": [],
   "source": [
    "# Save Lookalike Results to CSV\n",
    "# Convert the results dictionary into a format suitable for saving to a CSV file\n",
    "lookalike_csv_data = [\n",
    "    {\"cust_id\": customer, \"recommendations\": lookalike_results[customer]} for customer in lookalike_results\n",
    "]\n",
    "lookalike_df = pd.DataFrame(lookalike_csv_data)"
   ]
  },
  {
   "cell_type": "code",
   "execution_count": 10,
   "id": "f7e5b0fe",
   "metadata": {},
   "outputs": [
    {
     "name": "stdout",
     "output_type": "stream",
     "text": [
      "Lookalike Model completed. Results saved to Lookalike.csv.\n"
     ]
    }
   ],
   "source": [
    "# Save the results to 'Lookalike.csv'\n",
    "lookalike_df.to_csv(\"Lookalike.csv\", index=False)\n",
    "\n",
    "print(\"Lookalike Model completed. Results saved to Lookalike.csv.\")"
   ]
  },
  {
   "cell_type": "code",
   "execution_count": null,
   "id": "1592ed13",
   "metadata": {},
   "outputs": [],
   "source": []
  }
 ],
 "metadata": {
  "kernelspec": {
   "display_name": "base",
   "language": "python",
   "name": "python3"
  },
  "language_info": {
   "codemirror_mode": {
    "name": "ipython",
    "version": 3
   },
   "file_extension": ".py",
   "mimetype": "text/x-python",
   "name": "python",
   "nbconvert_exporter": "python",
   "pygments_lexer": "ipython3",
   "version": "3.12.3"
  }
 },
 "nbformat": 4,
 "nbformat_minor": 5
}
